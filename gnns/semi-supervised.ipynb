{
 "cells": [
  {
   "cell_type": "code",
   "execution_count": null,
   "metadata": {},
   "outputs": [],
   "source": [
    "import pandas as pd \n",
    "import numpy as np"
   ]
  },
  {
   "cell_type": "code",
   "execution_count": null,
   "metadata": {},
   "outputs": [],
   "source": [
    "# Load data\n",
    "df = pd.read_csv('../data/inputs/NER2.csv')"
   ]
  },
  {
   "cell_type": "code",
   "execution_count": null,
   "metadata": {},
   "outputs": [],
   "source": [
    "# Check the shape\n",
    "print('NER', df.shape[0])\n",
    "df"
   ]
  },
  {
   "cell_type": "code",
   "execution_count": null,
   "metadata": {},
   "outputs": [],
   "source": [
    "# Updating column name\n",
    "df.rename(columns = {'Unnamed: 0':'index'}, inplace = True)\n",
    "df"
   ]
  },
  {
   "cell_type": "code",
   "execution_count": null,
   "metadata": {},
   "outputs": [],
   "source": [
    "# Replacing null values (pages with no relevant named entities) with zeroes\n",
    "df = df.fillna(0)\n",
    "# Replacing any anomolous entries with 0\n",
    "df = df.replace(r'^\\s*$', 0, regex=True)\n",
    "df"
   ]
  },
  {
   "cell_type": "code",
   "execution_count": null,
   "metadata": {},
   "outputs": [],
   "source": [
    "# Make sure we have no duplicate nodes\n",
    "max(df[\"url\"].value_counts())"
   ]
  },
  {
   "cell_type": "code",
   "execution_count": null,
   "metadata": {},
   "outputs": [],
   "source": [
    "# Changing the index\n",
    "df.set_index('index')\n",
    "df = df.drop(columns = ['url'])"
   ]
  },
  {
   "cell_type": "code",
   "execution_count": null,
   "metadata": {},
   "outputs": [],
   "source": [
    "# Convert to numpy\n",
    "x = df.to_numpy(dtype=np.compat.long)"
   ]
  },
  {
   "cell_type": "code",
   "execution_count": null,
   "metadata": {},
   "outputs": [],
   "source": [
    "print(x.shape)\n",
    "print(x)"
   ]
  },
  {
   "cell_type": "code",
   "execution_count": null,
   "metadata": {},
   "outputs": [],
   "source": [
    "# Bringing in the node classification labels \n",
    "df_labels = pd.read_csv(\"../data/inputs/pages_ranked_with_data_labelled.csv\")\n",
    "# df_labels = df_labels[[\"page path\", \"label\"]]\n",
    "df_labels.head()"
   ]
  },
  {
   "cell_type": "code",
   "execution_count": null,
   "metadata": {},
   "outputs": [],
   "source": [
    "# Need to have labels for each node (economic recovery or not economic recovery)\n",
    "'''\n",
    "In the form:\n",
    "\n",
    "|| page_link   || relevant (y/n) ||\n",
    "|| ------------||----------------||\n",
    "|| page_link_0 ||        1       ||\n",
    "|| page_link_1 ||        0       ||\n",
    "|| page_link_2 ||        1       ||\n",
    "...\n",
    "'''\n",
    "# Make sure we have no duplicate nodes\n",
    "max(df_labels[\"url\"].value_counts())\n",
    "\n",
    "# Remove irrelevant columns\n",
    "df_labels = df_labels.drop(columns=[\"url\", \"index\"])\n",
    "\n",
    "df_labels.shape[0]\n",
    "\n",
    "# To numpy again... \n",
    "# y = df_labels.to_numpy(dtype=np.compat.long)\n",
    "y = df_labels.label.tolist()\n",
    "# print(y.shape)\n",
    "print(y[0:5])"
   ]
  },
  {
   "cell_type": "code",
   "execution_count": null,
   "metadata": {},
   "outputs": [],
   "source": [
    "# Creating train/val/test idx masks\n",
    "# tm = pd.read_csv(\"../data/inputs/test_masks.csv\")\n",
    "# tm.head()"
   ]
  },
  {
   "cell_type": "code",
   "execution_count": null,
   "metadata": {},
   "outputs": [],
   "source": [
    "# # Moving masks into lists\n",
    "# train_mask = tm.index[0:100].tolist()\n",
    "# val_mask = tm.index[100:224].tolist()\n",
    "# test_mask = tm.index[224:].tolist()"
   ]
  },
  {
   "cell_type": "code",
   "execution_count": null,
   "metadata": {},
   "outputs": [],
   "source": [
    "# type(val_mask)"
   ]
  },
  {
   "cell_type": "code",
   "execution_count": null,
   "metadata": {},
   "outputs": [],
   "source": [
    "# Now creating the edge df\n",
    "df_edges = pd.read_csv(\"../edge_list.csv\")\n",
    "df_edges"
   ]
  },
  {
   "cell_type": "code",
   "execution_count": null,
   "metadata": {},
   "outputs": [],
   "source": [
    "'''\n",
    "Some pages were removed from the list prior to NER work\n",
    "due to the page no longer existing or there being < 20 \n",
    "characters in the page's text field.\n",
    "\n",
    "It is now necessary to remove these nodes from the edge dataset,\n",
    "as this was attained from N2V approach.\n",
    "'''\n",
    "\n",
    "# Creating a list of pages to be removed\n",
    "pages_to_remove = [\n",
    "    \"/\",\n",
    "    \"/search/all\",\n",
    "    \"/find-covid-19-lateral-flow-test-site\",\n",
    "    \"/guidance/coronavirus-covid-19-getting-tested\",\n",
    "    \"/register-coronavirus-antibody-test\",\n",
    "    \"/entering-staying-uk/foreign-nationals-working-in-uk\",\n",
    "    \"/business-finance-support/business-cash-advance-uk\",\n",
    "    \"/government/publications/applying-to-the-register-of-apprenticeship-training-providers-roatp\",\n",
    "    \"/guidance/esfa-business-operations-help-and-support\",\n",
    "    \"/business-finance-support/business-growth-calderdale\",\n",
    "    \"/business-finance-support/low-carbon-workspaces-buckinghamshire\",\n",
    "    \"/log-test-site-covid19-results\",\n",
    "    \"/guidance/apprenticeships-resources-for-teachers-and-advisers\",\n",
    "    \"/business-finance-support/south-east-creatives-seccads\",\n",
    "    \"/business-finance-support/construction-industry-training-board-citb-grants-scheme-england\",\n",
    "    \"/government/publications/turkey-list-of-lawyers/list-of-lawyers-in-ankara-and-gaziantep\",\n",
    "    \"/business-finance-support/agri-tech-cornwall-cornwall-and-the-isles-of-scilly\"\n",
    "]"
   ]
  },
  {
   "cell_type": "code",
   "execution_count": null,
   "metadata": {},
   "outputs": [],
   "source": [
    "# Removing pages from sources nodes\n",
    "df_edges_1 = df_edges[~df_edges[\"source\"].isin(pages_to_remove)]"
   ]
  },
  {
   "cell_type": "code",
   "execution_count": null,
   "metadata": {},
   "outputs": [],
   "source": [
    "# Removing pages from target nodes\n",
    "df_edges_2 = df_edges_1[~df_edges_1[\"target\"].isin(pages_to_remove)]"
   ]
  },
  {
   "cell_type": "code",
   "execution_count": null,
   "metadata": {},
   "outputs": [],
   "source": [
    "# Removing null rows\n",
    "df_edges_3 = df_edges_2.dropna()"
   ]
  },
  {
   "cell_type": "code",
   "execution_count": null,
   "metadata": {},
   "outputs": [],
   "source": [
    "# Now need to extract the edges\n",
    "''' \n",
    "In the form:\n",
    "\n",
    "[[0, 0, 0, 0, 0 , 0 , 0 , ...],\n",
    " [1, 5, 7, 9, 11, 14, 16, ...]]\n",
    "\n",
    "Where this represents links existing between page 0 and 1, 5, 7, 9, 11, 14, 16...\n",
    "'''\n",
    "\n",
    "# gives df with edge weights (3 rows)\n",
    "# want to use this later when get all working\n",
    "# df_edges_3 = df_edges_3.drop(columns=[\"index\", \"source\", \"target\"])\n",
    "\n",
    "# gives df without edge weights (2 rows)\n",
    "df_edges_4 = df_edges_3.drop(columns=[\"index\", \"source\", \"target\", \"edgeWeight\"])\n",
    "\n",
    "\n",
    "df_edges_4.shape[0]"
   ]
  },
  {
   "cell_type": "code",
   "execution_count": null,
   "metadata": {},
   "outputs": [],
   "source": [
    "# Transposing and changing type\n",
    "df_edges = df_edges_4.transpose()\n",
    "df_edges = df_edges.astype(np.compat.long)\n",
    "df_edges"
   ]
  },
  {
   "cell_type": "code",
   "execution_count": null,
   "metadata": {},
   "outputs": [],
   "source": [
    "# To numpy again\n",
    "z = df_edges.to_numpy(dtype=np.compat.long)\n",
    "print(z.shape)\n",
    "print(z[0:5])"
   ]
  },
  {
   "cell_type": "code",
   "execution_count": null,
   "metadata": {},
   "outputs": [],
   "source": [
    "# Adding edge weight\n",
    "df_weights = df_edges_3.drop(columns=[\"index\", \"source\",\"target\", \"source_index\", \"target_index\"])\n",
    "print(df_weights.shape)\n",
    "df_weights"
   ]
  },
  {
   "cell_type": "code",
   "execution_count": null,
   "metadata": {},
   "outputs": [],
   "source": [
    "edge_attrs = df_weights.to_numpy(dtype=np.compat.long)\n",
    "print(edge_attrs.shape)\n",
    "print(edge_attrs[0:5])"
   ]
  },
  {
   "cell_type": "markdown",
   "metadata": {},
   "source": [
    "# Creating pytorch-geometric dataset"
   ]
  },
  {
   "cell_type": "code",
   "execution_count": null,
   "metadata": {},
   "outputs": [],
   "source": [
    "import torch\n",
    "import torch_geometric\n",
    "from torch_geometric.data import Data"
   ]
  },
  {
   "cell_type": "code",
   "execution_count": null,
   "metadata": {},
   "outputs": [],
   "source": [
    "# Defining the number of classes\n",
    "# In this case 1 = relevant, 0 = not relevant\n",
    "# Therefore, 2 classes\n",
    "num_classes = 2"
   ]
  },
  {
   "cell_type": "code",
   "execution_count": null,
   "metadata": {},
   "outputs": [],
   "source": [
    "# Converting np arrays to tensors\n",
    "x = torch.Tensor(x)\n",
    "y = torch.Tensor(y)\n",
    "edge_index = torch.Tensor(z)\n",
    "edge_attr = torch.Tensor(edge_attrs)\n",
    "# train_mask = torch.Tensor(train_mask)\n",
    "# val_mask = torch.Tensor(val_mask)\n",
    "# test_mask = torch.Tensor(test_mask)\n",
    "num_classes = torch.Tensor(num_classes)"
   ]
  },
  {
   "cell_type": "code",
   "execution_count": null,
   "metadata": {},
   "outputs": [],
   "source": [
    "# Changing tensor type from float to long\n",
    "# Uncomment for GCN\n",
    "x = x.type(torch.LongTensor)\n",
    "y = y.type(torch.LongTensor)\n",
    "edge_index = edge_index.type(torch.LongTensor)\n",
    "edge_attr = edge_attr.type(torch.LongTensor)\n",
    "num_classes = num_classes.type(torch.LongTensor)"
   ]
  },
  {
   "cell_type": "code",
   "execution_count": null,
   "metadata": {},
   "outputs": [],
   "source": [
    "# test_mask.type()"
   ]
  },
  {
   "cell_type": "code",
   "execution_count": null,
   "metadata": {},
   "outputs": [],
   "source": [
    "# Creating pytorch-geometric dataset\n",
    "dataset = Data(x = x, \n",
    "            edge_index=edge_index,\n",
    "            y=y,\n",
    "            edge_attr=edge_attr,\n",
    "            # train_mask=train_mask,\n",
    "            # val_mask=val_mask,\n",
    "            # test_mask=test_mask,\n",
    "            num_classes=num_classes)"
   ]
  },
  {
   "cell_type": "code",
   "execution_count": null,
   "metadata": {},
   "outputs": [],
   "source": [
    "dataset.x\n",
    "type(dataset.x)"
   ]
  },
  {
   "cell_type": "code",
   "execution_count": null,
   "metadata": {},
   "outputs": [],
   "source": [
    "dataset.x = dataset.x.type(torch.long)\n",
    "dataset.y = dataset.y.type(torch.long)\n",
    "dataset.edge_index = dataset.edge_index.type(torch.long)\n",
    "dataset.edge_attr = dataset.edge_index.type(torch.long)\n",
    "dataset.num_classes = dataset.num_classes.type(torch.long)"
   ]
  },
  {
   "cell_type": "code",
   "execution_count": null,
   "metadata": {},
   "outputs": [],
   "source": [
    "dataset.edge_index.dtype"
   ]
  },
  {
   "cell_type": "code",
   "execution_count": null,
   "metadata": {},
   "outputs": [],
   "source": [
    "from sklearn.model_selection import train_test_split"
   ]
  },
  {
   "cell_type": "code",
   "execution_count": null,
   "metadata": {},
   "outputs": [],
   "source": [
    "X_train, X_test = train_test_split(pd.Series(list(x[:,0])), train_size=0.0472, shuffle=False)"
   ]
  },
  {
   "cell_type": "code",
   "execution_count": null,
   "metadata": {},
   "outputs": [],
   "source": [
    "X_train, X_val = train_test_split(X_train, test_size=0.05, shuffle=True, random_state=123)"
   ]
  },
  {
   "cell_type": "code",
   "execution_count": null,
   "metadata": {},
   "outputs": [],
   "source": [
    "train_mask = torch.zeros(10614, dtype=torch.bool)\n",
    "val_mask = torch.zeros(10614, dtype=torch.bool)\n",
    "test_mask = torch.zeros(10614, dtype=torch.bool)\n",
    "train_mask[X_train.index] = True\n",
    "val_mask[X_val.index] = True\n",
    "test_mask[X_test.index] = True\n",
    "dataset['train_mask'] = train_mask\n",
    "dataset['val_mask'] = val_mask\n",
    "dataset['test_mask'] = test_mask"
   ]
  },
  {
   "cell_type": "code",
   "execution_count": null,
   "metadata": {},
   "outputs": [],
   "source": [
    "val_test = dataset.y[dataset.val_mask].type(torch.float64)\n",
    "torch.mean(val_test)"
   ]
  },
  {
   "cell_type": "code",
   "execution_count": null,
   "metadata": {},
   "outputs": [],
   "source": [
    "len(dataset.val_mask)"
   ]
  },
  {
   "cell_type": "code",
   "execution_count": null,
   "metadata": {},
   "outputs": [],
   "source": [
    "dataset.y"
   ]
  },
  {
   "cell_type": "code",
   "execution_count": null,
   "metadata": {},
   "outputs": [],
   "source": [
    "# Gather some statistics about the graph.\n",
    "print(f'Number of nodes: {dataset.num_nodes}')\n",
    "print(f'Number of edges: {dataset.num_edges}')\n",
    "print(f'Average node degree: {dataset.num_edges / dataset.num_nodes:.2f}')\n",
    "print(f'Number of training nodes: {dataset.train_mask.sum()}')\n",
    "print(f'Training node label rate: {int(dataset.train_mask.sum()) / dataset.num_nodes:.2f}')\n",
    "print(f'Has isolated nodes: {dataset.has_isolated_nodes()}')\n",
    "print(f'Has self-loops: {dataset.has_self_loops()}')\n",
    "# print(f'Is undirected: {dataset.is_undirected()}')\n",
    "# print(f'Edge weight: {dataset.edge_weight}')"
   ]
  },
  {
   "cell_type": "markdown",
   "metadata": {},
   "source": [
    "# Building out the GNN\n",
    "\n",
    "https://pytorch-geometric.readthedocs.io/en/latest/notes/introduction.html"
   ]
  },
  {
   "cell_type": "code",
   "execution_count": null,
   "metadata": {},
   "outputs": [],
   "source": [
    "import torch.nn.functional as F \n",
    "from torch_geometric.nn import GCNConv, GATConv"
   ]
  },
  {
   "cell_type": "code",
   "execution_count": null,
   "metadata": {},
   "outputs": [],
   "source": [
    "# Creating GCN\n",
    "from numpy import dtype\n",
    "from torch import dropout\n",
    "\n",
    "\n",
    "class GCN(torch.nn.Module):\n",
    "    def __init__(self):\n",
    "        super().__init__()\n",
    "        self.conv1 = GCNConv(1556, 32)\n",
    "        self.conv2 = GCNConv(32, 2)\n",
    "\n",
    "    def forward(self, data):\n",
    "        \n",
    "        x, edge_index = data.x.type(dtype=torch.float64), data.edge_index.type(dtype=torch.int64)#, data.edge_attr.type(dtype=torch.int64)\n",
    "        # x, edge_index = data.x, data.edge_index\n",
    "\n",
    "        # x = F.dropout(x, p=0.6, training=self.training)\n",
    "        x = self.conv1(x, edge_index)\n",
    "        # x = F.relu(x)\n",
    "        x = F.leaky_relu(x)\n",
    "        # x = F.tanh(x)\n",
    "        x = F.dropout(x, training=self.training)\n",
    "        x = self.conv2(x, edge_index)\n",
    "\n",
    "        return F.log_softmax(x, dim=1)"
   ]
  },
  {
   "cell_type": "code",
   "execution_count": null,
   "metadata": {},
   "outputs": [],
   "source": [
    "from torch import dropout\n",
    "\n",
    "\n",
    "device = torch.device('cpu')\n",
    "model = GCN().to(device)\n",
    "d = dataset.to(device)\n",
    "# loss_criterion = torch.nn.CrossEntropyLoss()\n",
    "optimizer = torch.optim.Adam(model.parameters(), lr=0.005, weight_decay=5e-5)\n",
    "\n",
    "num_epochs = 750\n",
    "model.train()\n",
    "model = model.double()\n",
    "loss_vals = []\n",
    "for epoch in range(num_epochs):\n",
    "    optimizer.zero_grad()\n",
    "    out = model(d)\n",
    "    loss = F.nll_loss(out[d.train_mask], d.y[d.train_mask])\n",
    "    # loss = F.nll_loss(out[d.val_mask], d.y[d.val_mask])\n",
    "    loss.backward()\n",
    "    loss_vals.append(loss.detach().numpy())\n",
    "    print(f'Epoch: {epoch:03d}, Loss: {loss:.4f}')\n",
    "    optimizer.step()"
   ]
  },
  {
   "cell_type": "code",
   "execution_count": 3032,
   "metadata": {},
   "outputs": [
    {
     "name": "stdout",
     "output_type": "stream",
     "text": [
      "Accuracy: 0.7200\n"
     ]
    }
   ],
   "source": [
    "model.eval()\n",
    "pred = model(dataset).argmax(dim=1)\n",
    "correct = (pred[dataset.val_mask] == dataset.y[dataset.val_mask]).sum()\n",
    "acc = int(correct) / int(dataset.val_mask.sum())\n",
    "print(f'Accuracy: {acc:.4f}')"
   ]
  },
  {
   "cell_type": "code",
   "execution_count": 3033,
   "metadata": {},
   "outputs": [
    {
     "data": {
      "image/png": "[encoded data removed]",
      "text/plain": [
       "<Figure size 432x288 with 1 Axes>"
      ]
     },
     "metadata": {
      "needs_background": "light"
     },
     "output_type": "display_data"
    }
   ],
   "source": [
    "import matplotlib.pyplot as plt\n",
    "def my_plot(epochs, loss):\n",
    "    plt.figure()\n",
    "    plt.xlabel(\"Epoch\")\n",
    "    plt.ylabel(\"Loss\")\n",
    "    plt.plot(epochs, loss)\n",
    "\n",
    "my_plot(np.linspace(1, num_epochs, num_epochs).astype(int), loss_vals)"
   ]
  },
  {
   "cell_type": "code",
   "execution_count": 3044,
   "metadata": {},
   "outputs": [
    {
     "name": "stdout",
     "output_type": "stream",
     "text": [
      "GCN(\n",
      "  (conv1): GCNConv(1556, 32)\n",
      "  (conv2): GCNConv(32, 2)\n",
      ")\n"
     ]
    }
   ],
   "source": [
    "# Creating GAT\n",
    "# TODO\n",
    "\n",
    "from torch import LongTensor\n",
    "\n",
    "\n",
    "class GAT(torch.nn.Module):\n",
    "    def __init__(self, hidden_channels, heads):\n",
    "        super().__init__()\n",
    "        torch.manual_seed(42)\n",
    "        self.gat1 = GATConv(1556, 16)\n",
    "        self.gat2 = GATConv(16, 2) \n",
    "\n",
    "    def forward(self, d):\n",
    "        x, edge_index = d.x.type(dtype=torch.float64), d.edge_index.type(dtype=torch.int64)#, data.edge_attr.type(dtype=torch.int64)\n",
    "        x = F.dropout(x, p=0.6, training=self.training)\n",
    "        x = self.gat1(x, edge_index)\n",
    "        x = F.elu(x)\n",
    "        x = F.dropout(x, p=0.6, training=self.training)\n",
    "        x = self.gat2(x, edge_index)\n",
    "        return x\n",
    "\n",
    "# model = GAT(hidden_channels=8, heads=8)\n",
    "print(model)"
   ]
  },
  {
   "cell_type": "code",
   "execution_count": null,
   "metadata": {},
   "outputs": [],
   "source": [
    "device = torch.device('cpu')\n",
    "model_GAT = GAT(hidden_channels=16, heads=16).to(device)\n",
    "d = dataset.to(device)\n",
    "# loss_criterion = torch.nn.CrossEntropyLoss()\n",
    "optimizer = torch.optim.Adam(model.parameters(), lr=0.005, weight_decay=5e-4)\n",
    "\n",
    "num_epochs_GAT = 250\n",
    "model_GAT.train()\n",
    "model_GAT = model_GAT.double()\n",
    "loss_vals_GAT = []\n",
    "for epoch in range(num_epochs_GAT):\n",
    "    optimizer.zero_grad()\n",
    "    out = model_GAT(d)\n",
    "    loss = F.cross_entropy(out[d.train_mask], d.y[d.train_mask])\n",
    "    loss.backward()\n",
    "    loss_vals_GAT.append(loss.detach().numpy())\n",
    "    print(f'Epoch: {epoch:03d}, Loss: {loss:.4f}')\n",
    "    optimizer.step()"
   ]
  },
  {
   "cell_type": "code",
   "execution_count": 3047,
   "metadata": {},
   "outputs": [
    {
     "name": "stdout",
     "output_type": "stream",
     "text": [
      "Accuracy: 0.2400\n"
     ]
    }
   ],
   "source": [
    "model_GAT.eval()\n",
    "pred = model_GAT(dataset).argmax(dim=1)\n",
    "correct = (pred[dataset.val_mask] == dataset.y[dataset.val_mask]).sum()\n",
    "acc = int(correct) / int(dataset.val_mask.sum())\n",
    "print(f'Accuracy: {acc:.4f}')"
   ]
  },
  {
   "cell_type": "code",
   "execution_count": 3048,
   "metadata": {},
   "outputs": [
    {
     "data": {
      "image/png": "[encoded data removed]",
      "text/plain": [
       "<Figure size 432x288 with 1 Axes>"
      ]
     },
     "metadata": {
      "needs_background": "light"
     },
     "output_type": "display_data"
    }
   ],
   "source": [
    "my_plot(np.linspace(1, num_epochs_GAT, num_epochs_GAT).astype(int), loss_vals_GAT)"
   ]
  },
  {
   "cell_type": "markdown",
   "metadata": {},
   "source": [
    "# Evaluation"
   ]
  },
  {
   "cell_type": "code",
   "execution_count": null,
   "metadata": {},
   "outputs": [],
   "source": [
    "# This is the predictions of the validation set\n",
    "prediction = pred[dataset.val_mask]\n",
    "# This is the actual labels\n",
    "truth = dataset.y[dataset.val_mask]"
   ]
  },
  {
   "cell_type": "code",
   "execution_count": null,
   "metadata": {},
   "outputs": [],
   "source": [
    "print(prediction)\n",
    "print(truth)"
   ]
  },
  {
   "cell_type": "code",
   "execution_count": null,
   "metadata": {},
   "outputs": [],
   "source": [
    "def confusion(prediction, truth):\n",
    "   \"\"\" Returns the confusion matrix for the values in the `prediction` and `truth`\n",
    "    tensors, i.e. the amount of positions where the values of `prediction`\n",
    "    and `truth` are\n",
    "    - 1 and 1 (True Positive)\n",
    "    - 1 and 0 (False Positive)\n",
    "    - 0 and 0 (True Negative)\n",
    "    - 0 and 1 (False Negative)\n",
    "    \"\"\"\n",
    "\n",
    "   confusion_vector = prediction / truth\n",
    "\n",
    "   true_positives = torch.sum(confusion_vector == 1).item()\n",
    "   false_positives = torch.sum(confusion_vector == float('inf')).item()\n",
    "   true_negatives = torch.sum(torch.isnan(confusion_vector)).item()\n",
    "   false_negatives = torch.sum(confusion_vector == 0).item()\n",
    "\n",
    "   return true_positives, false_positives, true_negatives, false_negatives\n"
   ]
  },
  {
   "cell_type": "code",
   "execution_count": null,
   "metadata": {},
   "outputs": [],
   "source": [
    "TP, FP, TN, FN = confusion(prediction, truth)"
   ]
  },
  {
   "cell_type": "code",
   "execution_count": null,
   "metadata": {},
   "outputs": [],
   "source": [
    "print(\"True positives:\",TP)\n",
    "print(\"False positives:\",FP)\n",
    "print(\"True negatives:\",TN)\n",
    "print(\"False negatives:\",FN)"
   ]
  },
  {
   "cell_type": "code",
   "execution_count": null,
   "metadata": {},
   "outputs": [],
   "source": []
  }
 ],
 "metadata": {
  "kernelspec": {
   "display_name": "Python 3",
   "language": "python",
   "name": "python3"
  },
  "language_info": {
   "codemirror_mode": {
    "name": "ipython",
    "version": 3
   },
   "file_extension": ".py",
   "mimetype": "text/x-python",
   "name": "python",
   "nbconvert_exporter": "python",
   "pygments_lexer": "ipython3",
   "version": "3.8.5"
  },
  "toc": {
   "base_numbering": 1,
   "nav_menu": {},
   "number_sections": true,
   "sideBar": true,
   "skip_h1_title": false,
   "title_cell": "Table of Contents",
   "title_sidebar": "Contents",
   "toc_cell": false,
   "toc_position": {},
   "toc_section_display": true,
   "toc_window_display": false
  },
  "varInspector": {
   "cols": {
    "lenName": 16,
    "lenType": 16,
    "lenVar": 40
   },
   "kernels_config": {
    "python": {
     "delete_cmd_postfix": "",
     "delete_cmd_prefix": "del ",
     "library": "var_list.py",
     "varRefreshCmd": "print(var_dic_list())"
    },
    "r": {
     "delete_cmd_postfix": ") ",
     "delete_cmd_prefix": "rm(",
     "library": "var_list.r",
     "varRefreshCmd": "cat(var_dic_list()) "
    }
   },
   "types_to_exclude": [
    "module",
    "function",
    "builtin_function_or_method",
    "instance",
    "_Feature"
   ],
   "window_display": false
  },
  "vscode": {
   "interpreter": {
    "hash": "feb72aa86adf3dbe491716fb35fe8b95aef07c373b2aed386ae31cecd3b83cf2"
   }
  }
 },
 "nbformat": 4,
 "nbformat_minor": 2
}
