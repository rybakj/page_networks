{
 "cells": [
  {
   "cell_type": "markdown",
   "metadata": {},
   "source": [
    "**Notebook objective**: \n",
    "1. Load graph object and NER data\n",
    "2. Create graph object with and without node features\n",
    "\n",
    "**Details**\n",
    "- Graph object comes from ``functional_session_hit_directed_graph_er.gpickle'' file, i.e. the original graph file for the ER user journey.\n",
    "- Two types of graph objects *with* features* are created: one with purely NER features and one with one-hot encoded nodes (to compensate for the fact that many nodes have zero feature vectors)."
   ]
  },
  {
   "cell_type": "markdown",
   "metadata": {},
   "source": [
    "# Load packages"
   ]
  },
  {
   "cell_type": "code",
   "execution_count": 19,
   "metadata": {},
   "outputs": [],
   "source": [
    "# Load packages\n",
    "from src import functions as f\n",
    "import pandas as pd\n",
    "import networkx as nx"
   ]
  },
  {
   "cell_type": "markdown",
   "metadata": {},
   "source": [
    "# Code"
   ]
  },
  {
   "cell_type": "code",
   "execution_count": 23,
   "metadata": {},
   "outputs": [
    {
     "name": "stderr",
     "output_type": "stream",
     "text": [
      "C:\\Users\\jbryb\\virual_envs_python\\pytorch_env\\lib\\site-packages\\networkx\\linalg\\graphmatrix.py:187: FutureWarning: adjacency_matrix will return a scipy.sparse array instead of a matrix in Networkx 3.0.\n",
      "  return adjacency_matrix(G, nodelist, dtype, weight)\n",
      "C:\\Users\\jbryb\\OneDrive\\Documents\\Projects\\github_gov_newtork_jrad\\src\\functions.py:45: FutureWarning: adjacency_matrix will return a scipy.sparse array instead of a matrix in Networkx 3.0.\n",
      "  T = nx.adjacency_matrix(G, weight=\"edgeWeight\").todense()\n",
      "C:\\Users\\jbryb\\OneDrive\\Documents\\Projects\\github_gov_newtork_jrad\\src\\functions.py:52: RuntimeWarning: invalid value encountered in divide\n",
      "  T_probs = T_array / sum_of_rows[:, np.newaxis]  # increase dimension for broadcasting\n"
     ]
    },
    {
     "name": "stdout",
     "output_type": "stream",
     "text": [
      "Max row sum of probs: 1.0\n",
      "Max row sum of probs: 1.0\n"
     ]
    },
    {
     "name": "stderr",
     "output_type": "stream",
     "text": [
      "C:\\Users\\jbryb\\AppData\\Local\\Temp\\ipykernel_21284\\2313523018.py:3: DtypeWarning: Columns (0,1,2) have mixed types. Specify dtype option on import or set low_memory=False.\n",
      "  ner_df = pd.read_csv(\"./data/inputs/ner_onehot.csv\")\n"
     ]
    }
   ],
   "source": [
    "# Load data (original graph object and transition and adjacency matrices extracted from it)\n",
    "G, A, T = f.get_er_graph(\"./data/inputs/functional_session_hit_directed_graph_er.gpickle\")\n",
    "ner_df = pd.read_csv(\"./data/inputs/ner_onehot.csv\")"
   ]
  },
  {
   "cell_type": "code",
   "execution_count": 24,
   "metadata": {},
   "outputs": [
    {
     "name": "stderr",
     "output_type": "stream",
     "text": [
      "C:\\Users\\jbryb\\AppData\\Local\\Temp\\ipykernel_21284\\468134769.py:5: FutureWarning: The default value of regex will change from True to False in a future version.\n",
      "  ner_df[\"Unnamed: 2\"] = ner_df[\"Unnamed: 2\"].str.replace('https://www.gov.uk' , '')\n"
     ]
    },
    {
     "data": {
      "text/html": [
       "<div>\n",
       "<style scoped>\n",
       "    .dataframe tbody tr th:only-of-type {\n",
       "        vertical-align: middle;\n",
       "    }\n",
       "\n",
       "    .dataframe tbody tr th {\n",
       "        vertical-align: top;\n",
       "    }\n",
       "\n",
       "    .dataframe thead th {\n",
       "        text-align: right;\n",
       "    }\n",
       "</style>\n",
       "<table border=\"1\" class=\"dataframe\">\n",
       "  <thead>\n",
       "    <tr style=\"text-align: right;\">\n",
       "      <th></th>\n",
       "      <th>page_index_10 years</th>\n",
       "      <th>page_index_5 years</th>\n",
       "      <th>page_index_abroad</th>\n",
       "      <th>page_index_academics</th>\n",
       "      <th>page_index_academies</th>\n",
       "      <th>page_index_academy</th>\n",
       "      <th>page_index_academy trust</th>\n",
       "      <th>page_index_acas</th>\n",
       "      <th>page_index_accident</th>\n",
       "      <th>page_index_accommodation</th>\n",
       "      <th>...</th>\n",
       "      <th>page_index_world health organization</th>\n",
       "      <th>page_index_writing</th>\n",
       "      <th>page_index_year</th>\n",
       "      <th>page_index_years</th>\n",
       "      <th>page_index_young people</th>\n",
       "      <th>page_index_young person</th>\n",
       "      <th>page_index_youth</th>\n",
       "      <th>page_index_youth court</th>\n",
       "      <th>page_index_youth mobility scheme</th>\n",
       "      <th>page_index_zimbabwe</th>\n",
       "    </tr>\n",
       "    <tr>\n",
       "      <th>page</th>\n",
       "      <th></th>\n",
       "      <th></th>\n",
       "      <th></th>\n",
       "      <th></th>\n",
       "      <th></th>\n",
       "      <th></th>\n",
       "      <th></th>\n",
       "      <th></th>\n",
       "      <th></th>\n",
       "      <th></th>\n",
       "      <th></th>\n",
       "      <th></th>\n",
       "      <th></th>\n",
       "      <th></th>\n",
       "      <th></th>\n",
       "      <th></th>\n",
       "      <th></th>\n",
       "      <th></th>\n",
       "      <th></th>\n",
       "      <th></th>\n",
       "      <th></th>\n",
       "    </tr>\n",
       "  </thead>\n",
       "  <tbody>\n",
       "    <tr>\n",
       "      <th>/view-prove-immigration-status</th>\n",
       "      <td>0.0</td>\n",
       "      <td>0.0</td>\n",
       "      <td>0.0</td>\n",
       "      <td>0.0</td>\n",
       "      <td>0.0</td>\n",
       "      <td>0.0</td>\n",
       "      <td>0.0</td>\n",
       "      <td>0.0</td>\n",
       "      <td>0.0</td>\n",
       "      <td>0.0</td>\n",
       "      <td>...</td>\n",
       "      <td>0.0</td>\n",
       "      <td>0.0</td>\n",
       "      <td>0.0</td>\n",
       "      <td>0.0</td>\n",
       "      <td>0.0</td>\n",
       "      <td>0.0</td>\n",
       "      <td>0.0</td>\n",
       "      <td>0.0</td>\n",
       "      <td>0.0</td>\n",
       "      <td>0.0</td>\n",
       "    </tr>\n",
       "    <tr>\n",
       "      <th>/prove-right-to-work</th>\n",
       "      <td>0.0</td>\n",
       "      <td>0.0</td>\n",
       "      <td>0.0</td>\n",
       "      <td>0.0</td>\n",
       "      <td>0.0</td>\n",
       "      <td>0.0</td>\n",
       "      <td>0.0</td>\n",
       "      <td>0.0</td>\n",
       "      <td>0.0</td>\n",
       "      <td>0.0</td>\n",
       "      <td>...</td>\n",
       "      <td>0.0</td>\n",
       "      <td>0.0</td>\n",
       "      <td>0.0</td>\n",
       "      <td>0.0</td>\n",
       "      <td>0.0</td>\n",
       "      <td>0.0</td>\n",
       "      <td>0.0</td>\n",
       "      <td>0.0</td>\n",
       "      <td>0.0</td>\n",
       "      <td>0.0</td>\n",
       "    </tr>\n",
       "    <tr>\n",
       "      <th>/find-a-job</th>\n",
       "      <td>0.0</td>\n",
       "      <td>0.0</td>\n",
       "      <td>0.0</td>\n",
       "      <td>0.0</td>\n",
       "      <td>0.0</td>\n",
       "      <td>0.0</td>\n",
       "      <td>0.0</td>\n",
       "      <td>0.0</td>\n",
       "      <td>0.0</td>\n",
       "      <td>0.0</td>\n",
       "      <td>...</td>\n",
       "      <td>0.0</td>\n",
       "      <td>0.0</td>\n",
       "      <td>0.0</td>\n",
       "      <td>0.0</td>\n",
       "      <td>0.0</td>\n",
       "      <td>0.0</td>\n",
       "      <td>0.0</td>\n",
       "      <td>0.0</td>\n",
       "      <td>0.0</td>\n",
       "      <td>0.0</td>\n",
       "    </tr>\n",
       "    <tr>\n",
       "      <th>/check-state-pension/sign-in/prove-identity</th>\n",
       "      <td>0.0</td>\n",
       "      <td>0.0</td>\n",
       "      <td>0.0</td>\n",
       "      <td>0.0</td>\n",
       "      <td>0.0</td>\n",
       "      <td>0.0</td>\n",
       "      <td>0.0</td>\n",
       "      <td>0.0</td>\n",
       "      <td>0.0</td>\n",
       "      <td>0.0</td>\n",
       "      <td>...</td>\n",
       "      <td>0.0</td>\n",
       "      <td>0.0</td>\n",
       "      <td>0.0</td>\n",
       "      <td>0.0</td>\n",
       "      <td>0.0</td>\n",
       "      <td>0.0</td>\n",
       "      <td>0.0</td>\n",
       "      <td>0.0</td>\n",
       "      <td>0.0</td>\n",
       "      <td>0.0</td>\n",
       "    </tr>\n",
       "    <tr>\n",
       "      <th>/jobseekers-allowance</th>\n",
       "      <td>0.0</td>\n",
       "      <td>0.0</td>\n",
       "      <td>0.0</td>\n",
       "      <td>0.0</td>\n",
       "      <td>0.0</td>\n",
       "      <td>0.0</td>\n",
       "      <td>0.0</td>\n",
       "      <td>0.0</td>\n",
       "      <td>0.0</td>\n",
       "      <td>0.0</td>\n",
       "      <td>...</td>\n",
       "      <td>0.0</td>\n",
       "      <td>0.0</td>\n",
       "      <td>0.0</td>\n",
       "      <td>0.0</td>\n",
       "      <td>0.0</td>\n",
       "      <td>0.0</td>\n",
       "      <td>0.0</td>\n",
       "      <td>0.0</td>\n",
       "      <td>0.0</td>\n",
       "      <td>0.0</td>\n",
       "    </tr>\n",
       "  </tbody>\n",
       "</table>\n",
       "<p>5 rows × 1555 columns</p>\n",
       "</div>"
      ],
      "text/plain": [
       "                                             page_index_10 years  \\\n",
       "page                                                               \n",
       "/view-prove-immigration-status                               0.0   \n",
       "/prove-right-to-work                                         0.0   \n",
       "/find-a-job                                                  0.0   \n",
       "/check-state-pension/sign-in/prove-identity                  0.0   \n",
       "/jobseekers-allowance                                        0.0   \n",
       "\n",
       "                                             page_index_5 years  \\\n",
       "page                                                              \n",
       "/view-prove-immigration-status                              0.0   \n",
       "/prove-right-to-work                                        0.0   \n",
       "/find-a-job                                                 0.0   \n",
       "/check-state-pension/sign-in/prove-identity                 0.0   \n",
       "/jobseekers-allowance                                       0.0   \n",
       "\n",
       "                                             page_index_abroad  \\\n",
       "page                                                             \n",
       "/view-prove-immigration-status                             0.0   \n",
       "/prove-right-to-work                                       0.0   \n",
       "/find-a-job                                                0.0   \n",
       "/check-state-pension/sign-in/prove-identity                0.0   \n",
       "/jobseekers-allowance                                      0.0   \n",
       "\n",
       "                                             page_index_academics  \\\n",
       "page                                                                \n",
       "/view-prove-immigration-status                                0.0   \n",
       "/prove-right-to-work                                          0.0   \n",
       "/find-a-job                                                   0.0   \n",
       "/check-state-pension/sign-in/prove-identity                   0.0   \n",
       "/jobseekers-allowance                                         0.0   \n",
       "\n",
       "                                             page_index_academies  \\\n",
       "page                                                                \n",
       "/view-prove-immigration-status                                0.0   \n",
       "/prove-right-to-work                                          0.0   \n",
       "/find-a-job                                                   0.0   \n",
       "/check-state-pension/sign-in/prove-identity                   0.0   \n",
       "/jobseekers-allowance                                         0.0   \n",
       "\n",
       "                                             page_index_academy  \\\n",
       "page                                                              \n",
       "/view-prove-immigration-status                              0.0   \n",
       "/prove-right-to-work                                        0.0   \n",
       "/find-a-job                                                 0.0   \n",
       "/check-state-pension/sign-in/prove-identity                 0.0   \n",
       "/jobseekers-allowance                                       0.0   \n",
       "\n",
       "                                             page_index_academy trust  \\\n",
       "page                                                                    \n",
       "/view-prove-immigration-status                                    0.0   \n",
       "/prove-right-to-work                                              0.0   \n",
       "/find-a-job                                                       0.0   \n",
       "/check-state-pension/sign-in/prove-identity                       0.0   \n",
       "/jobseekers-allowance                                             0.0   \n",
       "\n",
       "                                             page_index_acas  \\\n",
       "page                                                           \n",
       "/view-prove-immigration-status                           0.0   \n",
       "/prove-right-to-work                                     0.0   \n",
       "/find-a-job                                              0.0   \n",
       "/check-state-pension/sign-in/prove-identity              0.0   \n",
       "/jobseekers-allowance                                    0.0   \n",
       "\n",
       "                                             page_index_accident  \\\n",
       "page                                                               \n",
       "/view-prove-immigration-status                               0.0   \n",
       "/prove-right-to-work                                         0.0   \n",
       "/find-a-job                                                  0.0   \n",
       "/check-state-pension/sign-in/prove-identity                  0.0   \n",
       "/jobseekers-allowance                                        0.0   \n",
       "\n",
       "                                             page_index_accommodation  ...  \\\n",
       "page                                                                   ...   \n",
       "/view-prove-immigration-status                                    0.0  ...   \n",
       "/prove-right-to-work                                              0.0  ...   \n",
       "/find-a-job                                                       0.0  ...   \n",
       "/check-state-pension/sign-in/prove-identity                       0.0  ...   \n",
       "/jobseekers-allowance                                             0.0  ...   \n",
       "\n",
       "                                             page_index_world health organization  \\\n",
       "page                                                                                \n",
       "/view-prove-immigration-status                                                0.0   \n",
       "/prove-right-to-work                                                          0.0   \n",
       "/find-a-job                                                                   0.0   \n",
       "/check-state-pension/sign-in/prove-identity                                   0.0   \n",
       "/jobseekers-allowance                                                         0.0   \n",
       "\n",
       "                                             page_index_writing  \\\n",
       "page                                                              \n",
       "/view-prove-immigration-status                              0.0   \n",
       "/prove-right-to-work                                        0.0   \n",
       "/find-a-job                                                 0.0   \n",
       "/check-state-pension/sign-in/prove-identity                 0.0   \n",
       "/jobseekers-allowance                                       0.0   \n",
       "\n",
       "                                             page_index_year  \\\n",
       "page                                                           \n",
       "/view-prove-immigration-status                           0.0   \n",
       "/prove-right-to-work                                     0.0   \n",
       "/find-a-job                                              0.0   \n",
       "/check-state-pension/sign-in/prove-identity              0.0   \n",
       "/jobseekers-allowance                                    0.0   \n",
       "\n",
       "                                             page_index_years  \\\n",
       "page                                                            \n",
       "/view-prove-immigration-status                            0.0   \n",
       "/prove-right-to-work                                      0.0   \n",
       "/find-a-job                                               0.0   \n",
       "/check-state-pension/sign-in/prove-identity               0.0   \n",
       "/jobseekers-allowance                                     0.0   \n",
       "\n",
       "                                             page_index_young people  \\\n",
       "page                                                                   \n",
       "/view-prove-immigration-status                                   0.0   \n",
       "/prove-right-to-work                                             0.0   \n",
       "/find-a-job                                                      0.0   \n",
       "/check-state-pension/sign-in/prove-identity                      0.0   \n",
       "/jobseekers-allowance                                            0.0   \n",
       "\n",
       "                                             page_index_young person  \\\n",
       "page                                                                   \n",
       "/view-prove-immigration-status                                   0.0   \n",
       "/prove-right-to-work                                             0.0   \n",
       "/find-a-job                                                      0.0   \n",
       "/check-state-pension/sign-in/prove-identity                      0.0   \n",
       "/jobseekers-allowance                                            0.0   \n",
       "\n",
       "                                             page_index_youth  \\\n",
       "page                                                            \n",
       "/view-prove-immigration-status                            0.0   \n",
       "/prove-right-to-work                                      0.0   \n",
       "/find-a-job                                               0.0   \n",
       "/check-state-pension/sign-in/prove-identity               0.0   \n",
       "/jobseekers-allowance                                     0.0   \n",
       "\n",
       "                                             page_index_youth court  \\\n",
       "page                                                                  \n",
       "/view-prove-immigration-status                                  0.0   \n",
       "/prove-right-to-work                                            0.0   \n",
       "/find-a-job                                                     0.0   \n",
       "/check-state-pension/sign-in/prove-identity                     0.0   \n",
       "/jobseekers-allowance                                           0.0   \n",
       "\n",
       "                                             page_index_youth mobility scheme  \\\n",
       "page                                                                            \n",
       "/view-prove-immigration-status                                            0.0   \n",
       "/prove-right-to-work                                                      0.0   \n",
       "/find-a-job                                                               0.0   \n",
       "/check-state-pension/sign-in/prove-identity                               0.0   \n",
       "/jobseekers-allowance                                                     0.0   \n",
       "\n",
       "                                             page_index_zimbabwe  \n",
       "page                                                              \n",
       "/view-prove-immigration-status                               0.0  \n",
       "/prove-right-to-work                                         0.0  \n",
       "/find-a-job                                                  0.0  \n",
       "/check-state-pension/sign-in/prove-identity                  0.0  \n",
       "/jobseekers-allowance                                        0.0  \n",
       "\n",
       "[5 rows x 1555 columns]"
      ]
     },
     "execution_count": 24,
     "metadata": {},
     "output_type": "execute_result"
    }
   ],
   "source": [
    "# clean NER data\n",
    "\n",
    "# ner_df.head()\n",
    "ner_df.drop(['Unnamed: 0', 'Unnamed: 1'], axis = 1, inplace = True) #.columns\n",
    "ner_df[\"Unnamed: 2\"] = ner_df[\"Unnamed: 2\"].str.replace('https://www.gov.uk' , '')\n",
    "ner_df.dropna(subset = [\"Unnamed: 2\"], inplace = True)\n",
    "ner_df.rename(columns = {\"Unnamed: 2\": \"page\"}, inplace = True)\n",
    "ner_df.set_index(\"page\", inplace = True)\n",
    "ner_df.drop('page_link \\\\ word index', inplace = True)\n",
    "ner_df.head()"
   ]
  },
  {
   "cell_type": "code",
   "execution_count": 25,
   "metadata": {},
   "outputs": [
    {
     "name": "stdout",
     "output_type": "stream",
     "text": [
      "G is directed: True\n",
      "Number of nodes of the graph: 10631\n"
     ]
    }
   ],
   "source": [
    "print(\"G is directed:\", G.is_directed())\n",
    "print(\"Number of nodes of the graph:\", G.number_of_nodes())"
   ]
  },
  {
   "cell_type": "code",
   "execution_count": 26,
   "metadata": {},
   "outputs": [],
   "source": [
    "# G_from_T_features = G_from_T.copy()"
   ]
  },
  {
   "cell_type": "code",
   "execution_count": 27,
   "metadata": {},
   "outputs": [],
   "source": [
    "G_from_T = get_graph_from_transition_matrix(T, list(G.nodes) )"
   ]
  },
  {
   "cell_type": "code",
   "execution_count": 28,
   "metadata": {},
   "outputs": [
    {
     "name": "stdout",
     "output_type": "stream",
     "text": [
      "G is directed: True\n"
     ]
    }
   ],
   "source": [
    "print(\"G is directed:\", G_from_T.is_directed())"
   ]
  },
  {
   "cell_type": "code",
   "execution_count": 29,
   "metadata": {},
   "outputs": [],
   "source": [
    "G_features, matrix_features, omitted_nodes, omitted_nodes_index = add_ner_features(G_from_T, ner_df)\n",
    "G_features_wonehot, matrix_features_onehot = add_onehot_features(G_features, matrix_features, omitted_nodes_index)"
   ]
  },
  {
   "cell_type": "code",
   "execution_count": 48,
   "metadata": {},
   "outputs": [
    {
     "name": "stdout",
     "output_type": "stream",
     "text": [
      "Number of nodes with no NER features: 4651 i.e. 43.7 %.\n"
     ]
    }
   ],
   "source": [
    "print(\"Number of nodes with no NER features:\", len(omitted_nodes), \"i.e.\", \n",
    "      np.round(100* len(omitted_nodes)/len(G_features.nodes() ),1), \"%.\"\n",
    "     )"
   ]
  },
  {
   "cell_type": "code",
   "execution_count": 49,
   "metadata": {},
   "outputs": [
    {
     "data": {
      "text/plain": [
       "(1555,)"
      ]
     },
     "execution_count": 49,
     "metadata": {},
     "output_type": "execute_result"
    }
   ],
   "source": [
    "G_features.nodes[\"/\"]['node_feature'].shape"
   ]
  },
  {
   "cell_type": "code",
   "execution_count": 50,
   "metadata": {},
   "outputs": [
    {
     "data": {
      "text/plain": [
       "(6206,)"
      ]
     },
     "execution_count": 50,
     "metadata": {},
     "output_type": "execute_result"
    }
   ],
   "source": [
    "G_features_wonehot.nodes[\"/\"]['node_feature'].shape"
   ]
  },
  {
   "cell_type": "code",
   "execution_count": 46,
   "metadata": {},
   "outputs": [
    {
     "data": {
      "text/plain": [
       "()"
      ]
     },
     "execution_count": 46,
     "metadata": {},
     "output_type": "execute_result"
    }
   ],
   "source": [
    "# Write or loaf objects as pickles \n",
    "\n",
    "# Write to pickle basiv graph matrices\n",
    "f.dump_pickle_file(G, \"Graph_er\", dir_path=\"./data/graph_objects\")\n",
    "f.dump_pickle_file(G_from_T, \"Graph_from_T\", dir_path=\"./data/graph_objects\")\n",
    "f.dump_pickle_file(G_features, \"Graph_er_weighted_wfeatures\", dir_path=\"./data/graph_objects\")\n",
    "f.dump_pickle_file(G_features_wonehot, \"Graph_er_weighted_wfeatures_onehot\", dir_path=\"./data/graph_objects\")\n",
    "f.dump_pickle_file(A, \"Adjacency_er\", dir_path=\"./data/graph_objects\")\n",
    "f.dump_pickle_file(T, \"Transition_er\", dir_path=\"./data/graph_objects\")\n",
    "\n",
    "# Now load from pickles using a function in src folder\n",
    "# G = f.load_pickle_file(\"Graph_er\", dir_path=\"./data/graph_objects\")\n",
    "# G_from_T = f.load_pickle_file(\"Graph_from_T\", dir_path=\"./data/graph_objects\")\n",
    "# A2 = f.load_pickle_file(\"Adjacency_er\", dir_path=\"./data/graph_objects\")\n",
    "# T2 = f.load_pickle_file(\"Transition_er\", dir_path=\"./data/graph_objects\")"
   ]
  }
 ],
 "metadata": {
  "kernelspec": {
   "display_name": "pytorch_env",
   "language": "python",
   "name": "pytorch_env"
  },
  "language_info": {
   "codemirror_mode": {
    "name": "ipython",
    "version": 3
   },
   "file_extension": ".py",
   "mimetype": "text/x-python",
   "name": "python",
   "nbconvert_exporter": "python",
   "pygments_lexer": "ipython3",
   "version": "3.8.6"
  },
  "toc": {
   "base_numbering": 1,
   "nav_menu": {},
   "number_sections": true,
   "sideBar": true,
   "skip_h1_title": false,
   "title_cell": "Table of Contents",
   "title_sidebar": "Contents",
   "toc_cell": false,
   "toc_position": {},
   "toc_section_display": true,
   "toc_window_display": false
  },
  "varInspector": {
   "cols": {
    "lenName": 16,
    "lenType": 16,
    "lenVar": 40
   },
   "kernels_config": {
    "python": {
     "delete_cmd_postfix": "",
     "delete_cmd_prefix": "del ",
     "library": "var_list.py",
     "varRefreshCmd": "print(var_dic_list())"
    },
    "r": {
     "delete_cmd_postfix": ") ",
     "delete_cmd_prefix": "rm(",
     "library": "var_list.r",
     "varRefreshCmd": "cat(var_dic_list()) "
    }
   },
   "types_to_exclude": [
    "module",
    "function",
    "builtin_function_or_method",
    "instance",
    "_Feature"
   ],
   "window_display": false
  }
 },
 "nbformat": 4,
 "nbformat_minor": 4
}
