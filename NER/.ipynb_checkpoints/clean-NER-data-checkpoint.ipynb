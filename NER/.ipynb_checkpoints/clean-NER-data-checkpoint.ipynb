{
 "cells": [
  {
   "cell_type": "code",
   "execution_count": 415,
   "metadata": {},
   "outputs": [],
   "source": [
    "import pandas as pd\n",
    "import numpy as np\n",
    "import re "
   ]
  },
  {
   "cell_type": "code",
   "execution_count": 416,
   "metadata": {},
   "outputs": [
    {
     "data": {
      "text/html": [
       "<div>\n",
       "<style scoped>\n",
       "    .dataframe tbody tr th:only-of-type {\n",
       "        vertical-align: middle;\n",
       "    }\n",
       "\n",
       "    .dataframe tbody tr th {\n",
       "        vertical-align: top;\n",
       "    }\n",
       "\n",
       "    .dataframe thead th {\n",
       "        text-align: right;\n",
       "    }\n",
       "</style>\n",
       "<table border=\"1\" class=\"dataframe\">\n",
       "  <thead>\n",
       "    <tr style=\"text-align: right;\">\n",
       "      <th></th>\n",
       "      <th>page_index</th>\n",
       "      <th>entity_index</th>\n",
       "      <th>entity_group</th>\n",
       "      <th>word</th>\n",
       "    </tr>\n",
       "  </thead>\n",
       "  <tbody>\n",
       "    <tr>\n",
       "      <th>0</th>\n",
       "      <td>0</td>\n",
       "      <td>0.0</td>\n",
       "      <td>STATE</td>\n",
       "      <td>immigration status</td>\n",
       "    </tr>\n",
       "    <tr>\n",
       "      <th>1</th>\n",
       "      <td>0</td>\n",
       "      <td>1.0</td>\n",
       "      <td>PERSON</td>\n",
       "      <td>others</td>\n",
       "    </tr>\n",
       "    <tr>\n",
       "      <th>2</th>\n",
       "      <td>0</td>\n",
       "      <td>2.0</td>\n",
       "      <td>FORM</td>\n",
       "      <td>uk visas and immigration</td>\n",
       "    </tr>\n",
       "    <tr>\n",
       "      <th>3</th>\n",
       "      <td>0</td>\n",
       "      <td>3.0</td>\n",
       "      <td>LOCATION</td>\n",
       "      <td>uk</td>\n",
       "    </tr>\n",
       "    <tr>\n",
       "      <th>4</th>\n",
       "      <td>0</td>\n",
       "      <td>4.0</td>\n",
       "      <td>FORM</td>\n",
       "      <td>document</td>\n",
       "    </tr>\n",
       "  </tbody>\n",
       "</table>\n",
       "</div>"
      ],
      "text/plain": [
       "   page_index  entity_index entity_group                      word\n",
       "0           0           0.0        STATE        immigration status\n",
       "1           0           1.0       PERSON                    others\n",
       "2           0           2.0         FORM  uk visas and immigration\n",
       "3           0           3.0     LOCATION                        uk\n",
       "4           0           4.0         FORM                  document"
      ]
     },
     "execution_count": 416,
     "metadata": {},
     "output_type": "execute_result"
    }
   ],
   "source": [
    "df = pd.read_csv(\"df.csv\")\n",
    "df.head()"
   ]
  },
  {
   "cell_type": "code",
   "execution_count": 420,
   "metadata": {},
   "outputs": [
    {
     "data": {
      "text/plain": [
       "151996"
      ]
     },
     "execution_count": 420,
     "metadata": {},
     "output_type": "execute_result"
    }
   ],
   "source": [
    "len(df)"
   ]
  },
  {
   "cell_type": "code",
   "execution_count": 418,
   "metadata": {
    "scrolled": true
   },
   "outputs": [
    {
     "data": {
      "text/plain": [
       "['uk',\n",
       " 'people',\n",
       " 'users',\n",
       " 'employer',\n",
       " 'child',\n",
       " 'person',\n",
       " 'government',\n",
       " 'hmrc',\n",
       " 'england',\n",
       " 'employee',\n",
       " 'someone',\n",
       " 'children',\n",
       " 'company',\n",
       " 'employees',\n",
       " 'business',\n",
       " 'partner',\n",
       " 'country',\n",
       " 'employers',\n",
       " 'national insurance',\n",
       " 'court']"
      ]
     },
     "execution_count": 418,
     "metadata": {},
     "output_type": "execute_result"
    }
   ],
   "source": [
    "# Checking for the most common entities\n",
    "n = 20\n",
    "df[\"word\"].value_counts()[:n].index.tolist()"
   ]
  },
  {
   "cell_type": "code",
   "execution_count": 419,
   "metadata": {},
   "outputs": [],
   "source": [
    "# removes any rows with a `word` that occurs less than 5 times (cuts off about 30,000 for economic recovery)\n",
    "# note that this takes 1-2 mins to run \n",
    "\n",
    "v = df[['word']]\n",
    "df_reduced = df[v.replace(v.stack().value_counts()).gt(5).all(1)]"
   ]
  },
  {
   "cell_type": "code",
   "execution_count": null,
   "metadata": {},
   "outputs": [],
   "source": [
    "df_reduced"
   ]
  },
  {
   "cell_type": "code",
   "execution_count": 421,
   "metadata": {},
   "outputs": [
    {
     "data": {
      "text/plain": [
       "129051"
      ]
     },
     "execution_count": 421,
     "metadata": {},
     "output_type": "execute_result"
    }
   ],
   "source": [
    "len(df_reduced)"
   ]
  },
  {
   "cell_type": "code",
   "execution_count": 422,
   "metadata": {},
   "outputs": [
    {
     "data": {
      "text/plain": [
       "['PERSON',\n",
       " 'ORGANIZATION',\n",
       " 'LOCATION',\n",
       " 'FINANCE',\n",
       " 'DATE',\n",
       " 'FORM',\n",
       " 'EVENT',\n",
       " 'CONTACT',\n",
       " 'STATE',\n",
       " 'MISC']"
      ]
     },
     "execution_count": 422,
     "metadata": {},
     "output_type": "execute_result"
    }
   ],
   "source": [
    "# Checking all of the entity groups\n",
    "df_reduced[\"entity_group\"].value_counts()[:].index.tolist()"
   ]
  },
  {
   "cell_type": "code",
   "execution_count": 423,
   "metadata": {},
   "outputs": [],
   "source": [
    "# Want to drop DATE as this are often independent of year\n",
    "# Therefore could link articles which are not related. This is an unwanted bias\n",
    "\n",
    "df_reduced_dates = df_reduced.drop(df_reduced[df_reduced.entity_group == \"DATE\"].index)  # removes another 8,000"
   ]
  },
  {
   "cell_type": "code",
   "execution_count": null,
   "metadata": {},
   "outputs": [],
   "source": [
    "df_reduced_dates"
   ]
  },
  {
   "cell_type": "code",
   "execution_count": 424,
   "metadata": {},
   "outputs": [],
   "source": [
    "# Want to remove FORM as these are often poorly formatted\n",
    "\n",
    "df_reduced_dates_forms = df_reduced_dates.drop(df_reduced_dates[df_reduced_dates.entity_group == \"FORM\"].index)  # removes another 4,000"
   ]
  },
  {
   "cell_type": "code",
   "execution_count": null,
   "metadata": {},
   "outputs": [],
   "source": [
    "df_reduced_dates_forms"
   ]
  },
  {
   "cell_type": "code",
   "execution_count": 425,
   "metadata": {},
   "outputs": [],
   "source": [
    "# Drop FINANCE for same reason as dates\n",
    "df_reduced_dff = df_reduced_dates_forms.drop(df_reduced_dates_forms[df_reduced_dates_forms.entity_group == \"FINANCE\"].index)  # removes another 20,000"
   ]
  },
  {
   "cell_type": "code",
   "execution_count": null,
   "metadata": {},
   "outputs": [],
   "source": [
    "df_reduced_dff"
   ]
  },
  {
   "cell_type": "code",
   "execution_count": 426,
   "metadata": {},
   "outputs": [],
   "source": [
    "# Cleaning the column\n",
    "df_reduced_dff[\"word_cleaned\"] = df_reduced_dff[\"word\"].str.lower()\n",
    "df_reduced_dff[\"word_cleaned\"] = df_reduced_dff[\"word_cleaned\"].apply(lambda x: re.sub(r\".{}+[‚Äö√§√¥(?/)]\", \"\", x))"
   ]
  },
  {
   "cell_type": "code",
   "execution_count": 427,
   "metadata": {
    "scrolled": true
   },
   "outputs": [
    {
     "name": "stdout",
     "output_type": "stream",
     "text": [
      "Number of unique words: 1650\n"
     ]
    }
   ],
   "source": [
    "# checking the number of unique words\n",
    "print(\"Number of unique words:\", df_reduced_dff.word_cleaned.unique().size)"
   ]
  },
  {
   "cell_type": "code",
   "execution_count": 428,
   "metadata": {},
   "outputs": [
    {
     "data": {
      "text/plain": [
       "['PERSON', 'ORGANIZATION', 'LOCATION', 'EVENT', 'CONTACT', 'STATE', 'MISC']"
      ]
     },
     "execution_count": 428,
     "metadata": {},
     "output_type": "execute_result"
    }
   ],
   "source": [
    "# Checking if entity groups were successsfully removed\n",
    "df_reduced_dff[\"entity_group\"].value_counts()[:].index.tolist()"
   ]
  },
  {
   "cell_type": "code",
   "execution_count": 429,
   "metadata": {},
   "outputs": [],
   "source": [
    "words = df_reduced_dff.word.unique()"
   ]
  },
  {
   "cell_type": "code",
   "execution_count": null,
   "metadata": {},
   "outputs": [],
   "source": [
    "pd.DataFrame(words).to_csv(\"words.csv\", index=False)"
   ]
  },
  {
   "cell_type": "code",
   "execution_count": 430,
   "metadata": {},
   "outputs": [
    {
     "data": {
      "text/html": [
       "<div>\n",
       "<style scoped>\n",
       "    .dataframe tbody tr th:only-of-type {\n",
       "        vertical-align: middle;\n",
       "    }\n",
       "\n",
       "    .dataframe tbody tr th {\n",
       "        vertical-align: top;\n",
       "    }\n",
       "\n",
       "    .dataframe thead th {\n",
       "        text-align: right;\n",
       "    }\n",
       "</style>\n",
       "<table border=\"1\" class=\"dataframe\">\n",
       "  <thead>\n",
       "    <tr style=\"text-align: right;\">\n",
       "      <th></th>\n",
       "      <th>0</th>\n",
       "    </tr>\n",
       "  </thead>\n",
       "  <tbody>\n",
       "    <tr>\n",
       "      <th>0</th>\n",
       "      <td>immigration status</td>\n",
       "    </tr>\n",
       "    <tr>\n",
       "      <th>1</th>\n",
       "      <td>others</td>\n",
       "    </tr>\n",
       "    <tr>\n",
       "      <th>2</th>\n",
       "      <td>uk</td>\n",
       "    </tr>\n",
       "    <tr>\n",
       "      <th>3</th>\n",
       "      <td>employer</td>\n",
       "    </tr>\n",
       "    <tr>\n",
       "      <th>4</th>\n",
       "      <td>landlord</td>\n",
       "    </tr>\n",
       "  </tbody>\n",
       "</table>\n",
       "</div>"
      ],
      "text/plain": [
       "                    0\n",
       "0  immigration status\n",
       "1              others\n",
       "2                  uk\n",
       "3            employer\n",
       "4            landlord"
      ]
     },
     "execution_count": 430,
     "metadata": {},
     "output_type": "execute_result"
    }
   ],
   "source": [
    "df_words = pd.read_csv(\"words.csv\")\n",
    "df_words.head()"
   ]
  },
  {
   "cell_type": "code",
   "execution_count": 431,
   "metadata": {},
   "outputs": [],
   "source": [
    "df_words.columns = [\"words\"]"
   ]
  },
  {
   "cell_type": "code",
   "execution_count": 432,
   "metadata": {},
   "outputs": [
    {
     "name": "stdout",
     "output_type": "stream",
     "text": [
      "1650\n",
      "1623\n"
     ]
    }
   ],
   "source": [
    "# Two types of junk words get through\n",
    "# E.g., Those that have an unwanted . at the end --> replace these with the correct ones\n",
    "# The others are total junk and should just be removed\n",
    "# E.g., Äö√\n",
    "\n",
    "remove = [\"18\", \"16\", \"#NAME?\", \".\", \"2018\", \"2015\", \"-\", \"citizen ‚Äô s advice bureau\", \"30\", \"2\", \"/\", \"post -\", \"non -\", \"2019\", \"2014pdf\", \"1\", \"4\", \"2022\", \"2021\", \",\", \"2012\", \"3\", \"10\", \"‚Äö√Ñ√¥\", \"www\", \"partneryour child\", \"full -\" ,\"volunteersnational association\"]\n",
    "\n",
    "print(len(df_words))\n",
    "df_words_removed = df_words[~df_words.words.isin(remove)]\n",
    "print(len(df_words_removed))"
   ]
  },
  {
   "cell_type": "code",
   "execution_count": 433,
   "metadata": {},
   "outputs": [],
   "source": [
    "# values to be replaced\n",
    "\n",
    "df_reduced_dff[\"word_cleaned\"].replace({\"northern ireland.\": \"northern ireland\",\n",
    "                                   \"northern irelandthere\": \"northern ireland\",\n",
    "                                   \"northern irelandthe\": \"northern ireland\",\n",
    "                                   \"organisation.\": \"organisation\",\n",
    "                                   \"country.\": \"country\",\n",
    "                                   \"customers.\": \"customers\",\n",
    "                                   \"community actionwebsitenational council for voluntary organisations\": \"national council for voluntary organisations\",\n",
    "                                   \"uk.\": \"uk\",\n",
    "                                   \"workforce.\": \"workforce\",\n",
    "                                   \"area.\": \"area\",\n",
    "                                   \"employeesyou\": \"employees\",\n",
    "                                   \"armed forces.\": \"armed forces\",\n",
    "                                   \"employer.\": \"employer\",\n",
    "                                   \"employers.\": \"employers\",\n",
    "                                   \"employment tribunal.\": \"employment tribunal\",\n",
    "                                   \"council.\": \"council\",\n",
    "                                   \"charity.\": \"charity\",\n",
    "                                   \"ireland.\": \"ireland\",\n",
    "                                   \"govuk\": \"gov. uk\",\n",
    "                                   \"staff.\": \"staff\",\n",
    "                                   \"switzerland.\": \"switzerland\",\n",
    "                                   \"england.\": \"england\",\n",
    "                                   \"travel.\": \"travel\",\n",
    "                                   \"people.\": \"people\",\n",
    "                                   \"children.\": \"children\",\n",
    "                                   \"police.\": \"police\",\n",
    "                                   \"families.\": \"families\",\n",
    "                                   \"home.\": \"home\",\n",
    "                                   \"scotland.\": \"scotland\",\n",
    "                                   \"government.\": \"government\",\n",
    "                                   \"prison.\": \"prison\",\n",
    "                                   \"child.\": \"child\",\n",
    "                                   \"local council.\": \"local council\",\n",
    "                                   \"court.\": \"court\",\n",
    "                                   \". gov. uk\": \"gov. uk\",\n",
    "                                   \"company.\": \"company\",\n",
    "                                   \"spain.\": \"spain\",\n",
    "                                   \"countryyou\": \"country\",\n",
    "                                   \"government digital service\": \"gds\",\n",
    "                                   \"provider.\": \"provider\",\n",
    "                                   \"areas.\": \"areas\",\n",
    "                                   \"information commissioner ‚Äö√Ñ√¥\": \"information commissioner\",\n",
    "                                   \"child maintenance servicethe child maintenance service\": \"child maintenance service\",\n",
    "                                   \"child maintenance serviceto\": \"child maintenance service\",\n",
    "                                   \"wales.\": \"wales\",\n",
    "                                   \"magistrates ‚Äö√Ñ√¥ court\": \"magistrates court\",\n",
    "                                   \"visa application centre.\" : \"visa application centre\",\n",
    "                                   \"eu.\": \"eu\",\n",
    "                                   \"gov.\": \"gov\",\n",
    "                                   \"agency.\": \"agency\",\n",
    "                                   \"local authority.\": \"local authority\",\n",
    "                                   \"companies house.\": \"companies house\",\n",
    "                                   \"public.\": \"public\",\n",
    "                                   \"school.\": \"school\",\n",
    "                                   \"overseas.\": \"overseas\",\n",
    "                                   \"businesses.\": \"businesses\",\n",
    "                                   \"household.\": \"household\",\n",
    "                                   \"magistrates ‚Äö√Ñ√¥ courts\": \"magistrates courts\",\n",
    "                                   \"citizen ‚Äö√Ñ√¥ s advice bureau\": \"citizens advice bureau\",\n",
    "                                   \"thefinancial ombudsman service\": \"financial ombudsman service\",\n",
    "                                   \"population.\": \"population\",\n",
    "                                   \"tenants.\": \"tenants\",\n",
    "                                   \"ofqual /\": \"ofqual\",\n",
    "                                   \"nhs.\": \"nhs\",\n",
    "                                   \"local authorities.\": \"local authorities\",\n",
    "                                   \"partneryou\": \"partner\",\n",
    "                                   \"northern irelandyou\": \"northern ireland\",\n",
    "                                   \"thehome office\": \"home office\"\n",
    "                                  }, inplace=True)"
   ]
  },
  {
   "cell_type": "code",
   "execution_count": null,
   "metadata": {},
   "outputs": [],
   "source": [
    "df_reduced_dff"
   ]
  },
  {
   "cell_type": "code",
   "execution_count": 434,
   "metadata": {},
   "outputs": [
    {
     "name": "stdout",
     "output_type": "stream",
     "text": [
      "102753\n",
      "102547\n"
     ]
    }
   ],
   "source": [
    "# remove unwanted rows\n",
    "print(len(df_reduced_dff))\n",
    "df_words_clean1 = df_reduced_dff[~df_reduced_dff.word_cleaned.isin(remove)]\n",
    "print(len(df_words_clean1))\n",
    "# df_words_clean1"
   ]
  },
  {
   "cell_type": "code",
   "execution_count": 435,
   "metadata": {},
   "outputs": [
    {
     "data": {
      "text/plain": [
       "1563"
      ]
     },
     "execution_count": 435,
     "metadata": {},
     "output_type": "execute_result"
    }
   ],
   "source": [
    "# Check for number of unique words again\n",
    "words_clean_2 = df_words_clean1.word_cleaned.unique()\n",
    "len(words_clean_2)"
   ]
  },
  {
   "cell_type": "code",
   "execution_count": null,
   "metadata": {},
   "outputs": [],
   "source": [
    "pd.DataFrame(words_clean_2).to_csv(\"words_clean_2.csv\", index=False)"
   ]
  },
  {
   "cell_type": "code",
   "execution_count": 437,
   "metadata": {},
   "outputs": [],
   "source": [
    "df_words = pd.read_csv(\"words_clean_2.csv\")\n",
    "df_words"
   ]
  },
  {
   "cell_type": "code",
   "execution_count": 438,
   "metadata": {},
   "outputs": [],
   "source": [
    "df_words.columns = [\"words\"]"
   ]
  },
  {
   "cell_type": "code",
   "execution_count": null,
   "metadata": {},
   "outputs": [],
   "source": [
    "df_words_clean1"
   ]
  },
  {
   "cell_type": "code",
   "execution_count": 439,
   "metadata": {},
   "outputs": [],
   "source": [
    "page_indexes_test = df_words_clean1.loc[df_words_clean1[\"word_cleaned\"] == \"immigration status\", \"page_index\"]"
   ]
  },
  {
   "cell_type": "code",
   "execution_count": null,
   "metadata": {},
   "outputs": [],
   "source": [
    "page_indexes_test"
   ]
  },
  {
   "cell_type": "code",
   "execution_count": 440,
   "metadata": {},
   "outputs": [],
   "source": [
    "page_indexes_test_2 = df_words_clean1.loc[df_words_clean1[\"word_cleaned\"].isin([\"immigration status\", \"northern ireland\"]), \"page_index\"]"
   ]
  },
  {
   "cell_type": "code",
   "execution_count": null,
   "metadata": {},
   "outputs": [],
   "source": [
    "page_indexes_test_2"
   ]
  },
  {
   "cell_type": "code",
   "execution_count": null,
   "metadata": {},
   "outputs": [],
   "source": [
    "df_words"
   ]
  },
  {
   "cell_type": "code",
   "execution_count": 441,
   "metadata": {},
   "outputs": [],
   "source": [
    "common_words = df_words[\"words\"].tolist()"
   ]
  },
  {
   "cell_type": "code",
   "execution_count": null,
   "metadata": {},
   "outputs": [],
   "source": [
    "common_words"
   ]
  },
  {
   "cell_type": "code",
   "execution_count": 442,
   "metadata": {},
   "outputs": [],
   "source": [
    "page_indexes_common = df_words_clean1.loc[df_words_clean1[\"word_cleaned\"].isin(common_words), \"page_index\"]"
   ]
  },
  {
   "cell_type": "code",
   "execution_count": null,
   "metadata": {},
   "outputs": [],
   "source": []
  },
  {
   "cell_type": "code",
   "execution_count": null,
   "metadata": {},
   "outputs": [],
   "source": [
    "page_indexes_common"
   ]
  },
  {
   "cell_type": "code",
   "execution_count": 444,
   "metadata": {},
   "outputs": [],
   "source": [
    "df_words_clean1.loc[df_words_clean1[\"word\"].isin(common_words)].iloc[:][\"page_index\"]"
   ]
  },
  {
   "cell_type": "code",
   "execution_count": null,
   "metadata": {
    "scrolled": true
   },
   "outputs": [],
   "source": [
    "df_words_clean1"
   ]
  },
  {
   "cell_type": "code",
   "execution_count": 445,
   "metadata": {},
   "outputs": [],
   "source": [
    "from sklearn.preprocessing import OneHotEncoder"
   ]
  },
  {
   "cell_type": "code",
   "execution_count": 446,
   "metadata": {
    "scrolled": true
   },
   "outputs": [
    {
     "data": {
      "text/plain": [
       "uk            6133\n",
       "people        2752\n",
       "users         2213\n",
       "employer      2186\n",
       "child         1994\n",
       "person        1952\n",
       "government    1760\n",
       "hmrc          1597\n",
       "england       1557\n",
       "employee      1485\n",
       "someone       1484\n",
       "children      1442\n",
       "company       1248\n",
       "employees     1212\n",
       "partner       1090\n",
       "country       1083\n",
       "business      1046\n",
       "employers     1037\n",
       "staff          914\n",
       "court          885\n",
       "Name: word_cleaned, dtype: int64"
      ]
     },
     "execution_count": 446,
     "metadata": {},
     "output_type": "execute_result"
    }
   ],
   "source": [
    "df_words_clean1.word_cleaned.value_counts().sort_values(ascending=False).head(20)\n"
   ]
  },
  {
   "cell_type": "code",
   "execution_count": 448,
   "metadata": {},
   "outputs": [],
   "source": [
    "y = pd.get_dummies(df_words_clean1.word_cleaned, prefix=\"page_index\")\n",
    "# print(y.head())"
   ]
  },
  {
   "cell_type": "code",
   "execution_count": null,
   "metadata": {},
   "outputs": [],
   "source": [
    "y.to_csv(\"one-hot-encoding-2.csv\")"
   ]
  },
  {
   "cell_type": "code",
   "execution_count": null,
   "metadata": {},
   "outputs": [],
   "source": []
  }
 ],
 "metadata": {
  "kernelspec": {
   "display_name": "Python 3",
   "language": "python",
   "name": "python3"
  },
  "language_info": {
   "codemirror_mode": {
    "name": "ipython",
    "version": 3
   },
   "file_extension": ".py",
   "mimetype": "text/x-python",
   "name": "python",
   "nbconvert_exporter": "python",
   "pygments_lexer": "ipython3",
   "version": "3.8.5"
  },
  "toc": {
   "base_numbering": 1,
   "nav_menu": {},
   "number_sections": true,
   "sideBar": true,
   "skip_h1_title": false,
   "title_cell": "Table of Contents",
   "title_sidebar": "Contents",
   "toc_cell": false,
   "toc_position": {},
   "toc_section_display": true,
   "toc_window_display": false
  },
  "varInspector": {
   "cols": {
    "lenName": 16,
    "lenType": 16,
    "lenVar": 40
   },
   "kernels_config": {
    "python": {
     "delete_cmd_postfix": "",
     "delete_cmd_prefix": "del ",
     "library": "var_list.py",
     "varRefreshCmd": "print(var_dic_list())"
    },
    "r": {
     "delete_cmd_postfix": ") ",
     "delete_cmd_prefix": "rm(",
     "library": "var_list.r",
     "varRefreshCmd": "cat(var_dic_list()) "
    }
   },
   "types_to_exclude": [
    "module",
    "function",
    "builtin_function_or_method",
    "instance",
    "_Feature"
   ],
   "window_display": false
  }
 },
 "nbformat": 4,
 "nbformat_minor": 2
}
